import numpy as np
import tensorflow as tf
from trained_model.training_model import build_model, train_model

# Load data from CSV file
data = pd.read_csv('data/data.csv')

# Preprocess the data
X = data[['image_feature_1', 'image_feature_2', 'image_feature_3']].values
y = data['steering_angle'].values

# Build the model
model = build_model()

# Train the model
history = train_model(model, X, y)

# Evaluate the model
scores = model.evaluate(X, y)
print('Loss:', scores[0])
print('Accuracy:', scores[1])
