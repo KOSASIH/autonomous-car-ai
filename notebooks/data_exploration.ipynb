import pandas as pd
import matplotlib.pyplot as plt

# Load data from CSV file
data = pd.read_csv('data/data.csv')

# Explore the data
print(data.head())
print(data.describe())

# Visualize the data
plt.hist(data['steering_angle'], bins=20)
plt.xlabel('Steering Angle')
plt.ylabel('Frequency')
plt.show()
